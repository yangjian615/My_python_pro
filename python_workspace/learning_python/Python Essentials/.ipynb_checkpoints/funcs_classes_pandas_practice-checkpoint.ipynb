{
 "cells": [
  {
   "cell_type": "markdown",
   "metadata": {},
   "source": [
    "# Practice with Functions\n",
    "\n",
    "### Finish these functions..."
   ]
  },
  {
   "cell_type": "code",
   "execution_count": 3,
   "metadata": {
    "collapsed": false
   },
   "outputs": [
    {
     "name": "stdout",
     "output_type": "stream",
     "text": [
      "[1, 1, 2, 6, 24, 120]\n"
     ]
    }
   ],
   "source": [
    "def factorial(number):\n",
    "    '''\n",
    "    Input: Integer\n",
    "    Output: Integer\n",
    "    \n",
    "    Compute the factorial for the given number. \n",
    "    '''\n",
    "    \n",
    "    fact = 1\n",
    "    for number in xrange(1, number + 1): \n",
    "        fact *= number\n",
    "    return fact\n",
    "\n",
    "print [factorial(n) for n in range(6)]"
   ]
  },
  {
   "cell_type": "code",
   "execution_count": 7,
   "metadata": {
    "collapsed": false
   },
   "outputs": [
    {
     "name": "stdout",
     "output_type": "stream",
     "text": [
      "defaultdict(<type 'int'>, {'this': 2, 'of': 1, 'is': 1, 'an': 1, 'words': 1, 'several': 1, 'example': 1})\n"
     ]
    }
   ],
   "source": [
    "import collections\n",
    "\n",
    "def word_count(string): \n",
    "    '''\n",
    "    Input: String\n",
    "    Output: Dictionary \n",
    "    \n",
    "    For the inputted string, return a dictionary where the keys are the individual words, \n",
    "    and the values are the number of times that word appeared in the string. We're not \n",
    "    worried about punctuation at this point. \n",
    "    '''\n",
    "    words = string.split()\n",
    "    d = collections.defaultdict(int)\n",
    "    for w in words:\n",
    "        d[w] += 1\n",
    "    return d\n",
    "\n",
    "print word_count('this is an example of several words this')"
   ]
  },
  {
   "cell_type": "code",
   "execution_count": 6,
   "metadata": {
    "collapsed": false
   },
   "outputs": [
    {
     "name": "stdout",
     "output_type": "stream",
     "text": [
      "[(0, 0), (1, 0), (2, 1), (3, 1), (4, 4), (5, 4), (6, 9), (7, 9), (8, 16), (9, 16)]\n"
     ]
    }
   ],
   "source": [
    "def odd_sums(n): \n",
    "    '''\n",
    "    Input: Integer\n",
    "    Output: Integer\n",
    "    \n",
    "    Find the sum of all odd integers less than n. \n",
    "    '''\n",
    "    return sum(i for i in range(n) if i % 2 == 1)\n",
    "\n",
    "print [(i, odd_sums(i)) for i in range(10)]"
   ]
  },
  {
   "cell_type": "markdown",
   "metadata": {},
   "source": [
    "Now that you've finished, check out the *math* module, specifically the *factorial* function, and also the *collections* module, specifically the *Counter* class. "
   ]
  },
  {
   "cell_type": "markdown",
   "metadata": {},
   "source": [
    "# Practice with Classes\n",
    "\n",
    "Using the skeleton's below (which are based off the ones from the notes), build off of these classes to implement the following: \n",
    "\n",
    "1.) A `Member` class where each `Member` has the following **attributes**:  \n",
    "* age - Integer\n",
    "* name - Sring\n",
    "* hair color - String \n",
    "* favorite color - String\n",
    "* programming experience - String (make this one have a default value if not passed in upon instantiation)\n",
    "* words - List of Strings (this will be set as an empty list to begin)\n",
    "* foods - List of Strings (this will be set as an empty list to begin)\n",
    "* notes - List of Strings (this will be set as an empty list to begin)\n",
    "\n",
    "and the following **methods** (see the docstrings in the skeleton): \n",
    "* speaks\n",
    "* eats \n",
    "* writes \n",
    "\n",
    "2.) A `Meetup` class where each `Meetup` has the following **attributes**: \n",
    "* members - list of all the members in the Meetup\n",
    "* names - list of all the members names in the Meetup\n",
    "\n",
    "and the following **methods** (see the docstrings in the skeleton code): \n",
    "* get_menu\n",
    "* get_notes\n",
    "* get_transcript\n",
    "\n",
    "3.) Instantiate a `Member` for each member in your group, and then create an instance of the `Meetup` class you have created and fill it with your members. Double check that all of your code works and does what you expect when you're finished. "
   ]
  },
  {
   "cell_type": "code",
   "execution_count": 34,
   "metadata": {
    "collapsed": false
   },
   "outputs": [
    {
     "name": "stdout",
     "output_type": "stream",
     "text": [
      "Mike: Hi, my name is Mike!\n",
      "Mike: What is your name?\n",
      "['Hi, my name is Mike!', 'What is your name?']\n",
      "Mike [age: 44, exp: Intermediate, n phrases: 2]\n"
     ]
    }
   ],
   "source": [
    "class Member(): \n",
    "    \n",
    "    def __init__(self, age, name, hair_color, favorite_color, programming_experience): \n",
    "        # Define attributes here.\n",
    "        self.age = age\n",
    "        self.name = name\n",
    "        self.hair_color = hair_color\n",
    "        self.favorite_color = favorite_color\n",
    "        self.programming_experience = programming_experience\n",
    "        self.words = []\n",
    "        self.foods = []\n",
    "        self.notes = []\n",
    "    \n",
    "    def speaks(self, phrase='howdy'): \n",
    "        '''\n",
    "        Input: String\n",
    "        Output: Printed Statement, Saved phrase\n",
    "        \n",
    "        Print out the inputted phrase, as if they member is speaking. Also add it to \n",
    "        the words attribute for this member. Add a default to the inputted phrase argument \n",
    "        that is a phrase of your choosing. \n",
    "        '''\n",
    "        print '%s: %s' % (self.name, phrase)\n",
    "        self.words.append(phrase)\n",
    "    \n",
    "    def eats(self, food='pizza'): \n",
    "        '''\n",
    "        Input: String\n",
    "        Output: Saved food\n",
    "        \n",
    "        Add the inputted food to the foods attribute for this member, as if the member\n",
    "        was eating the food. Add a default to the inputted food argument that is a food \n",
    "        of your choosing. \n",
    "        '''\n",
    "        self.foods.append(food)\n",
    "    \n",
    "    def writes(self, phrase): \n",
    "        '''\n",
    "        Input: String\n",
    "        Output: Saved Variable\n",
    "        \n",
    "        Add the inputted phrase to the notes attribute for this member. \n",
    "        '''\n",
    "        self.notes.append(phrase)\n",
    "\n",
    "    def __str__(self):\n",
    "        return '%s [age: %d, exp: %s, n phrases: %d]' % (self.name, self.age, self.programming_experience, len(self.words))\n",
    "\n",
    "member1 = Member(44, 'Mike', 'Brown', 'Blue', 'Intermediate')\n",
    "member1.speaks('Hi, my name is Mike!')\n",
    "member1.speaks('What is your name?')\n",
    "print member1.words\n",
    "print member1"
   ]
  },
  {
   "cell_type": "code",
   "execution_count": 35,
   "metadata": {
    "collapsed": false
   },
   "outputs": [
    {
     "name": "stdout",
     "output_type": "stream",
     "text": [
      "Bob: Hello, my name is Bob!\n",
      "<__main__.Meetup instance at 0x105f4dd88>\n",
      "defaultdict(<type 'int'>, {'What': 1, 'name': 2, 'Hi,': 1, 'is': 3, 'Hello,': 1, 'Bob!': 1, 'Mike!': 1, 'name?': 1, 'my': 2, 'your': 1})\n",
      "Bob.\n",
      "Mike.\n"
     ]
    }
   ],
   "source": [
    "import collections\n",
    "\n",
    "class Meetup():     \n",
    "    def __init__(self, members):\n",
    "        # Define attributes here. \n",
    "        self.members = members\n",
    "    \n",
    "    def get_menu(self): \n",
    "        '''\n",
    "        Input: None\n",
    "        Output: Printed statement\n",
    "        \n",
    "        Print out all of the foods eaten by any of the members in the meetup (i.e. in this\n",
    "        class). \n",
    "        '''\n",
    "        for m in self.members:\n",
    "            for f in m.foods:\n",
    "                print f\n",
    "    \n",
    "    def get_notes(self): \n",
    "        '''\n",
    "        Input: None\n",
    "        Output: Printed Statement\n",
    "        \n",
    "        Print out a word count of all of the words spoken by any of the \n",
    "        members in the meetup (i.e. in this class). \n",
    "        '''\n",
    "        d = collections.defaultdict(int)\n",
    "        for m in self.members:\n",
    "            for phrase in m.words:\n",
    "                p = phrase.split()\n",
    "                for w in p:\n",
    "                    d[w] += 1\n",
    "        print d\n",
    "    \n",
    "    def get_transcript(self): \n",
    "        '''\n",
    "        Input: None\n",
    "        Output: Printed Statement\n",
    "        \n",
    "        Print out only those unique words in any of the notes of the members \n",
    "        in the meetup (i.e. in this class). \n",
    "        '''\n",
    "        d = collections.defaultdict(int)\n",
    "        for m in self.members:\n",
    "            for phrase in m.notes:\n",
    "                p = phrase.split()\n",
    "                for w in p:\n",
    "                    d[w] += 1\n",
    "        for w in [w for w, count in d.iteritems() if count ==1]:\n",
    "            print w\n",
    "\n",
    "member2 = Member(44, 'Bob', 'Brown', 'Black', 'Expert')\n",
    "member2.speaks('Hello, my name is Bob!')\n",
    "member1.writes('Hello, my name is Mike.')\n",
    "member2.writes('Hello, my name is Bob.')\n",
    "meetup = Meetup([member1, member2])\n",
    "print meetup\n",
    "meetup.get_notes()\n",
    "meetup.get_transcript()"
   ]
  },
  {
   "cell_type": "markdown",
   "metadata": {
    "collapsed": true
   },
   "source": [
    "# Practice with Imports \n",
    "\n",
    "To get some practice with what the kind of general workflow is in Python (where you build functions in certain files, then import those functions to use in your program), take each of the functions you finished in the first part, and save in its own file (so  you should have 3 files). Next, write a new script/python program that imports each of these functions and calls it. "
   ]
  },
  {
   "cell_type": "code",
   "execution_count": null,
   "metadata": {
    "collapsed": true
   },
   "outputs": [],
   "source": []
  }
 ],
 "metadata": {
  "kernelspec": {
   "display_name": "Python 2",
   "language": "python",
   "name": "python2"
  },
  "language_info": {
   "codemirror_mode": {
    "name": "ipython",
    "version": 2
   },
   "file_extension": ".py",
   "mimetype": "text/x-python",
   "name": "python",
   "nbconvert_exporter": "python",
   "pygments_lexer": "ipython2",
   "version": "2.7.5"
  }
 },
 "nbformat": 4,
 "nbformat_minor": 0
}
