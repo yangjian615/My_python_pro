{
  "nbformat_minor": 0, 
  "nbformat": 4, 
  "cells": [
    {
      "execution_count": null, 
      "cell_type": "code", 
      "source": [
        "%matplotlib inline"
      ], 
      "outputs": [], 
      "metadata": {
        "collapsed": false
      }
    }, 
    {
      "source": [
        "\n=====================================================\nOverplotting HEK feature/event polygons on SunPy maps\n=====================================================\n\nThis example shows how to overplot HEK outlines on SunPy maps.\n\n"
      ], 
      "cell_type": "markdown", 
      "metadata": {}
    }, 
    {
      "source": [
        "Start by importing the necessary modules.\n\n"
      ], 
      "cell_type": "markdown", 
      "metadata": {}
    }, 
    {
      "execution_count": null, 
      "cell_type": "code", 
      "source": [
        "from __future__ import print_function, division\nfrom datetime import timedelta\nimport numpy as np\n\nimport matplotlib.pyplot as plt\nfrom matplotlib import patches\nfrom astropy import units as u\n\nimport sunpy.map\nimport sunpy.data.sample\nfrom sunpy.net import hek\nfrom sunpy.time import parse_time\nfrom sunpy.physics.solar_rotation import rot_hpc"
      ], 
      "outputs": [], 
      "metadata": {
        "collapsed": false
      }
    }, 
    {
      "source": [
        "Load in an AIA map:\n\n"
      ], 
      "cell_type": "markdown", 
      "metadata": {}
    }, 
    {
      "execution_count": null, 
      "cell_type": "code", 
      "source": [
        "aia_map = sunpy.map.Map(sunpy.data.sample.AIA_171_IMAGE)"
      ], 
      "outputs": [], 
      "metadata": {
        "collapsed": false
      }
    }, 
    {
      "source": [
        "Let's look for sunspots in the HEK close to the time of the AIA map. First\ncreate a client:\n\n"
      ], 
      "cell_type": "markdown", 
      "metadata": {}
    }, 
    {
      "execution_count": null, 
      "cell_type": "code", 
      "source": [
        "hek_client = hek.HEKClient()"
      ], 
      "outputs": [], 
      "metadata": {
        "collapsed": false
      }
    }, 
    {
      "source": [
        "Look for coronal holes detected using the SPoCA feature recognition method:\n\n"
      ], 
      "cell_type": "markdown", 
      "metadata": {}
    }, 
    {
      "execution_count": null, 
      "cell_type": "code", 
      "source": [
        "start_time = aia_map.date - timedelta(hours=2)\nend_time = aia_map.date + timedelta(hours=2)\nresponses = hek_client.query(hek.attrs.Time(start_time, end_time), hek.attrs.CH, hek.attrs.FRM.Name == 'SPoCA')"
      ], 
      "outputs": [], 
      "metadata": {
        "collapsed": false
      }
    }, 
    {
      "source": [
        "Let's find the biggest coronal hole within 60 degrees north/south of the\nequator:\n\n"
      ], 
      "cell_type": "markdown", 
      "metadata": {}
    }, 
    {
      "execution_count": null, 
      "cell_type": "code", 
      "source": [
        "area = 0.0\nfor i, response in enumerate(responses):\n    if response['area_atdiskcenter'] > area and np.abs(response['hgc_y']) < 60.0:\n        area = response['area_atdiskcenter']\n        response_index = i"
      ], 
      "outputs": [], 
      "metadata": {
        "collapsed": false
      }
    }, 
    {
      "source": [
        "Now let's get the boundary of the coronal hole\n\n"
      ], 
      "cell_type": "markdown", 
      "metadata": {}
    }, 
    {
      "execution_count": null, 
      "cell_type": "code", 
      "source": [
        "ch = responses[response_index]\np1 = ch[\"hpc_boundcc\"][9: -2]\np2 = p1.split(',')\np3 = [v.split(\" \") for v in p2]\nch_boundary = np.asarray([(eval(v[0]), eval(v[1])) for v in p3])\nch_date = parse_time(ch['event_starttime'])"
      ], 
      "outputs": [], 
      "metadata": {
        "collapsed": false
      }
    }, 
    {
      "source": [
        "The coronal hole was detected at a certain time.  To plot it on a map, we\nneed to rotate it to the map observation time.\n\n"
      ], 
      "cell_type": "markdown", 
      "metadata": {}
    }, 
    {
      "execution_count": null, 
      "cell_type": "code", 
      "source": [
        "rotated_boundary = np.zeros_like(ch_boundary)\nn = ch_boundary.shape[0]\nfor i in range(0, n):\n    new_coords = rot_hpc(ch_boundary[i, 0] * u.arcsec,\n                         ch_boundary[i, 1] * u.arcsec,\n                         ch_date,\n                         aia_map.date)\n    rotated_boundary[i, 0] = new_coords[0].value\n    rotated_boundary[i, 1] = new_coords[1].value"
      ], 
      "outputs": [], 
      "metadata": {
        "collapsed": false
      }
    }, 
    {
      "source": [
        "Now let's plot the rotated coronal hole boundary on the AIA map.\n\n"
      ], 
      "cell_type": "markdown", 
      "metadata": {}
    }, 
    {
      "execution_count": null, 
      "cell_type": "code", 
      "source": [
        "fig = plt.figure()\nax = plt.subplot()\naia_map.plot()\ncoronal_hole = patches.Polygon(rotated_boundary, color='white', fill=False)\nax.set_title('{:s}\\n{:s}'.format(aia_map.name, ch['frm_specificid']))\nax.add_artist(coronal_hole)\nplt.colorbar()\nplt.tight_layout()"
      ], 
      "outputs": [], 
      "metadata": {
        "collapsed": false
      }
    }
  ], 
  "metadata": {
    "kernelspec": {
      "display_name": "Python 2", 
      "name": "python2", 
      "language": "python"
    }, 
    "language_info": {
      "mimetype": "text/x-python", 
      "nbconvert_exporter": "python", 
      "name": "python", 
      "file_extension": ".py", 
      "version": "2.7.12", 
      "pygments_lexer": "ipython2", 
      "codemirror_mode": {
        "version": 2, 
        "name": "ipython"
      }
    }
  }
}