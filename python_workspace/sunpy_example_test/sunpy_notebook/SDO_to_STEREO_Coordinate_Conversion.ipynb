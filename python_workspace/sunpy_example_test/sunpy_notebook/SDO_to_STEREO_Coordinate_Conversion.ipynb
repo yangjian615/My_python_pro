{
  "nbformat_minor": 0, 
  "nbformat": 4, 
  "cells": [
    {
      "execution_count": null, 
      "cell_type": "code", 
      "source": [
        "%matplotlib inline"
      ], 
      "outputs": [], 
      "metadata": {
        "collapsed": false
      }
    }, 
    {
      "source": [
        "\n# AIA to STEREO Coordinate Conversion\n\n\nIn this example we demonstrate how you can identify a point or region on the\nsurface of the Sun in an AIA image and then convert that point to a point in a\nSTEREO image.\n\n<div class=\"alert alert-info\"><h4>Note</h4><p>This example requires `WCSAxes` which is an optional SunPy dependency.</p></div>\n\n"
      ], 
      "cell_type": "markdown", 
      "metadata": {}
    }, 
    {
      "execution_count": null, 
      "cell_type": "code", 
      "source": [
        "import matplotlib.pyplot as plt\n\nimport astropy.units as u\nfrom astropy.coordinates import SkyCoord\nimport wcsaxes\n\nimport sunpy.map\nimport sunpy.coordinates\nimport sunpy.coordinates.wcs_utils\nfrom sunpy.net import vso"
      ], 
      "outputs": [], 
      "metadata": {
        "collapsed": false
      }
    }, 
    {
      "source": [
        "The first step is to download some data, we are going to get an image from\nearly 2011 when the STEREO spacecraft were roughly 90 deg seperated from the\nEarth.\n\n"
      ], 
      "cell_type": "markdown", 
      "metadata": {}
    }, 
    {
      "execution_count": null, 
      "cell_type": "code", 
      "source": [
        "stereo = (vso.attrs.Source('STEREO_B') &\n          vso.attrs.Instrument('EUVI') &\n          vso.attrs.Time('2011-01-01', '2011-01-01T00:10:00'))\n\naia = (vso.attrs.Instrument('AIA') &\n       vso.attrs.Sample(24 * u.hour) &\n       vso.attrs.Time('2011-01-01', '2011-01-02'))\n\nwave = vso.attrs.Wave(30 * u.nm, 31 * u.nm)\n\n\nvc = vso.VSOClient()\nres = vc.query(wave, aia | stereo)"
      ], 
      "outputs": [], 
      "metadata": {
        "collapsed": false
      }
    }, 
    {
      "source": [
        "The results from VSO query:\n\n"
      ], 
      "cell_type": "markdown", 
      "metadata": {}
    }, 
    {
      "execution_count": null, 
      "cell_type": "code", 
      "source": [
        "print(res)"
      ], 
      "outputs": [], 
      "metadata": {
        "collapsed": false
      }
    }, 
    {
      "source": [
        "Download the files:\n\n"
      ], 
      "cell_type": "markdown", 
      "metadata": {}
    }, 
    {
      "execution_count": null, 
      "cell_type": "code", 
      "source": [
        "files = vc.get(res).wait()"
      ], 
      "outputs": [], 
      "metadata": {
        "collapsed": false
      }
    }, 
    {
      "source": [
        "Create a dictionary with the two maps, cropped down to full disk.\n\n"
      ], 
      "cell_type": "markdown", 
      "metadata": {}
    }, 
    {
      "execution_count": null, 
      "cell_type": "code", 
      "source": [
        "maps = {m.detector: m.submap((-1100, 1100) * u.arcsec,\n                             (-1100, 1100) * u.arcsec) for m in sunpy.map.Map(files)}"
      ], 
      "outputs": [], 
      "metadata": {
        "collapsed": false
      }
    }, 
    {
      "source": [
        "Plot both maps\n\n"
      ], 
      "cell_type": "markdown", 
      "metadata": {}
    }, 
    {
      "execution_count": null, 
      "cell_type": "code", 
      "source": [
        "fig = plt.figure(figsize=(15, 5))\nfor i, m in enumerate(maps.values()):\n    ax = fig.add_subplot(1, 2, i+1, projection=m.wcs)\n    m.plot(axes=ax)"
      ], 
      "outputs": [], 
      "metadata": {
        "collapsed": false
      }
    }, 
    {
      "source": [
        "We are now going to pick out a region around the south west corner:\n\n"
      ], 
      "cell_type": "markdown", 
      "metadata": {}
    }, 
    {
      "execution_count": null, 
      "cell_type": "code", 
      "source": [
        "aia_width = 200 * u.arcsec\naia_height = 250 * u.arcsec\naia_bottom_left = (-800, -300) * u.arcsec"
      ], 
      "outputs": [], 
      "metadata": {
        "collapsed": false
      }
    }, 
    {
      "source": [
        "Plot a rectangle around the region we want to crop\n\n"
      ], 
      "cell_type": "markdown", 
      "metadata": {}
    }, 
    {
      "execution_count": null, 
      "cell_type": "code", 
      "source": [
        "m = maps['AIA']\nfig = plt.figure()\nax = fig.add_subplot(111, projection=m.wcs)\nm.plot(axes=ax)\nm.draw_rectangle(aia_bottom_left, aia_width, aia_height)"
      ], 
      "outputs": [], 
      "metadata": {
        "collapsed": false
      }
    }, 
    {
      "source": [
        "Create a submap of this area\n\n"
      ], 
      "cell_type": "markdown", 
      "metadata": {}
    }, 
    {
      "execution_count": null, 
      "cell_type": "code", 
      "source": [
        "subaia = maps['AIA'].submap(u.Quantity((aia_bottom_left[0],\n                                        aia_bottom_left[0] + aia_width)),\n                            u.Quantity((aia_bottom_left[1],\n                                        aia_bottom_left[1] + aia_height)))\nsubaia.peek()"
      ], 
      "outputs": [], 
      "metadata": {
        "collapsed": false
      }
    }, 
    {
      "source": [
        "We now want to crop out this same area on the STEREO EUVI image. First, we\ncreate a `SkyCoord` object with the four corners of the box. When we create\nthis object, we use `Map.coordinate_frame` so that the location parameters of\nSDO are correctly set.\n\n"
      ], 
      "cell_type": "markdown", 
      "metadata": {}
    }, 
    {
      "execution_count": null, 
      "cell_type": "code", 
      "source": [
        "hpc_aia = SkyCoord((aia_bottom_left,\n                    aia_bottom_left + u.Quantity((aia_width, 0 * u.arcsec)),\n                    aia_bottom_left + u.Quantity((0 * u.arcsec, aia_height)),\n                    aia_bottom_left + u.Quantity((aia_width, aia_height))),\n                   frame=maps['AIA'].coordinate_frame)\n\nprint(hpc_aia)"
      ], 
      "outputs": [], 
      "metadata": {
        "collapsed": false
      }
    }, 
    {
      "source": [
        "Now we convert these coordinates into Heliographic Stonyhurst coordinates,\nwhich are on the Sun, with the zero meridian facing the Earth.\n\n"
      ], 
      "cell_type": "markdown", 
      "metadata": {}
    }, 
    {
      "execution_count": null, 
      "cell_type": "code", 
      "source": [
        "hgs = hpc_aia.transform_to('heliographic_stonyhurst')\nprint(hgs)"
      ], 
      "outputs": [], 
      "metadata": {
        "collapsed": false
      }
    }, 
    {
      "source": [
        "Now we need to provide the position information from the STEREO Imager:\n\n"
      ], 
      "cell_type": "markdown", 
      "metadata": {}
    }, 
    {
      "execution_count": null, 
      "cell_type": "code", 
      "source": [
        "hgs.D0 = maps['EUVI'].dsun\nhgs.L0 = maps['EUVI'].heliographic_longitude\nhgs.B0 = maps['EUVI'].heliographic_latitude"
      ], 
      "outputs": [], 
      "metadata": {
        "collapsed": false
      }
    }, 
    {
      "source": [
        "We do this on the Heliographic frame because when in a Heliographic frame\nthese parameters have no effect on the frame, but they are used when the\nframe is converted back to Helioprojective. And now we can convert back to\nHelioprojective, but this time from the view-point of STEREO B:\n\n"
      ], 
      "cell_type": "markdown", 
      "metadata": {}
    }, 
    {
      "execution_count": null, 
      "cell_type": "code", 
      "source": [
        "hpc_B = hgs.transform_to('helioprojective')\nprint(hpc_B)"
      ], 
      "outputs": [], 
      "metadata": {
        "collapsed": false
      }
    }, 
    {
      "source": [
        "Now we can plot this box on both the AIA and EUVI images:\n\n"
      ], 
      "cell_type": "markdown", 
      "metadata": {}
    }, 
    {
      "execution_count": null, 
      "cell_type": "code", 
      "source": [
        "fig = plt.figure(figsize=(15, 5))\nfor i, (m, coord) in enumerate(zip([maps['EUVI'], maps['AIA']],\n                                   [hpc_B, hpc_aia])):\n    ax = fig.add_subplot(1, 2, i+1, projection=m.wcs)\n    m.plot(axes=ax)\n\n    # coord[3] is the top-right corner coord[0] is the bottom-left corner.\n    w = (coord[3].Tx - coord[0].Tx)\n    h = (coord[3].Ty - coord[0].Ty)\n    m.draw_rectangle(u.Quantity((coord[0].Tx, coord[0].Ty)), w, h,\n                     transform=ax.get_transform('world'))"
      ], 
      "outputs": [], 
      "metadata": {
        "collapsed": false
      }
    }, 
    {
      "source": [
        "We can now zoom in on the region in the EUVI image:\n\n"
      ], 
      "cell_type": "markdown", 
      "metadata": {}
    }, 
    {
      "execution_count": null, 
      "cell_type": "code", 
      "source": [
        "subeuvi = maps['EUVI'].submap(u.Quantity((hpc_B[0].Tx, hpc_B[3].Tx)),\n                              u.Quantity((hpc_B[0].Ty, hpc_B[3].Ty)))\nsubeuvi.peek()"
      ], 
      "outputs": [], 
      "metadata": {
        "collapsed": false
      }
    }, 
    {
      "source": [
        "Putting them together:\n\n"
      ], 
      "cell_type": "markdown", 
      "metadata": {}
    }, 
    {
      "execution_count": null, 
      "cell_type": "code", 
      "source": [
        "fig = plt.figure(figsize=(15, 5))\nfor i, m in enumerate((subeuvi, subaia)):\n    ax = fig.add_subplot(1, 2, i+1, projection=m.wcs)\n    m.plot(axes=ax)"
      ], 
      "outputs": [], 
      "metadata": {
        "collapsed": false
      }
    }
  ], 
  "metadata": {
    "kernelspec": {
      "display_name": "Python 2", 
      "name": "python2", 
      "language": "python"
    }, 
    "language_info": {
      "mimetype": "text/x-python", 
      "nbconvert_exporter": "python", 
      "name": "python", 
      "file_extension": ".py", 
      "version": "2.7.12", 
      "pygments_lexer": "ipython2", 
      "codemirror_mode": {
        "version": 2, 
        "name": "ipython"
      }
    }
  }
}