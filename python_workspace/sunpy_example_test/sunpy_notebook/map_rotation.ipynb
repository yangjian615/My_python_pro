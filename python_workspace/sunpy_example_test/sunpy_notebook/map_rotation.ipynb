{
  "nbformat_minor": 0, 
  "nbformat": 4, 
  "cells": [
    {
      "execution_count": null, 
      "cell_type": "code", 
      "source": [
        "%matplotlib inline"
      ], 
      "outputs": [], 
      "metadata": {
        "collapsed": false
      }
    }, 
    {
      "source": [
        "\n# Map Rotation\n\n\nIn this example we rotate a map.\n\n"
      ], 
      "cell_type": "markdown", 
      "metadata": {}
    }, 
    {
      "source": [
        "Start by importing the necessary modules.\n\n"
      ], 
      "cell_type": "markdown", 
      "metadata": {}
    }, 
    {
      "execution_count": null, 
      "cell_type": "code", 
      "source": [
        "from __future__ import print_function, division\n\nimport astropy.units as u\n\nimport sunpy.map\nimport sunpy.data.sample"
      ], 
      "outputs": [], 
      "metadata": {
        "collapsed": false
      }
    }, 
    {
      "source": [
        "Sunpy sample data contains a number of suitable maps, where the sunpy.data.sample.NAME\nreturns the location of the given FITS file.\n\n"
      ], 
      "cell_type": "markdown", 
      "metadata": {}
    }, 
    {
      "execution_count": null, 
      "cell_type": "code", 
      "source": [
        "aia_map = sunpy.map.Map(sunpy.data.sample.AIA_171_IMAGE)"
      ], 
      "outputs": [], 
      "metadata": {
        "collapsed": false
      }
    }, 
    {
      "source": [
        "This has a resolution of:\n\n"
      ], 
      "cell_type": "markdown", 
      "metadata": {}
    }, 
    {
      "execution_count": null, 
      "cell_type": "code", 
      "source": [
        "print(aia_map.dimensions)"
      ], 
      "outputs": [], 
      "metadata": {
        "collapsed": false
      }
    }, 
    {
      "source": [
        "To find out more specifics about this map and the instrument used, check it's\nmetatdata:\n\n"
      ], 
      "cell_type": "markdown", 
      "metadata": {}
    }, 
    {
      "execution_count": null, 
      "cell_type": "code", 
      "source": [
        "print(aia_map.meta)"
      ], 
      "outputs": [], 
      "metadata": {
        "collapsed": false
      }
    }, 
    {
      "source": [
        "Maps can also be rotated by using the `~sunpy.map.GenericMap.rotate` method\nwith a specified angle, supplied as an Astropy Quantity with angular units:\n\n"
      ], 
      "cell_type": "markdown", 
      "metadata": {}
    }, 
    {
      "execution_count": null, 
      "cell_type": "code", 
      "source": [
        "aia_rotated = aia_map.rotate(angle = 30 * u.deg)\naia_rotated.peek(draw_limb=True, draw_grid=True)\n# Or using Radians\naia_rotated = aia_map.rotate(angle = 0.5 * u.rad)\n# Note: the data array is expanded so that none of the original data is lost\n# through clipping.\n# Also note that subsequent rotations are not compunded, the map is only rotated\n# by the specified amount from the original maps orientation."
      ], 
      "outputs": [], 
      "metadata": {
        "collapsed": false
      }
    }
  ], 
  "metadata": {
    "kernelspec": {
      "display_name": "Python 2", 
      "name": "python2", 
      "language": "python"
    }, 
    "language_info": {
      "mimetype": "text/x-python", 
      "nbconvert_exporter": "python", 
      "name": "python", 
      "file_extension": ".py", 
      "version": "2.7.12", 
      "pygments_lexer": "ipython2", 
      "codemirror_mode": {
        "version": 2, 
        "name": "ipython"
      }
    }
  }
}