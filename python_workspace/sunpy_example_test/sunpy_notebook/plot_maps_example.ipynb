{
  "nbformat_minor": 0, 
  "nbformat": 4, 
  "cells": [
    {
      "execution_count": null, 
      "cell_type": "code", 
      "source": [
        "%matplotlib inline"
      ], 
      "outputs": [], 
      "metadata": {
        "collapsed": false
      }
    }, 
    {
      "source": [
        "\n# Interacting with Data Using SunPy Maps\n\n\nIn this example you will be learning how to create and modify SunPy Map objects.\n\n"
      ], 
      "cell_type": "markdown", 
      "metadata": {}
    }, 
    {
      "source": [
        "Start by importing the necessary modules.\n\n"
      ], 
      "cell_type": "markdown", 
      "metadata": {}
    }, 
    {
      "execution_count": null, 
      "cell_type": "code", 
      "source": [
        "from __future__ import print_function, division\n\nimport numpy as np\nimport astropy.units as u\n\nimport sunpy.map\nimport sunpy.data.sample"
      ], 
      "outputs": [], 
      "metadata": {
        "collapsed": false
      }
    }, 
    {
      "source": [
        "SunPy Maps store 2D data in a numpy array and additional data in a metadata\ndictionary giving information relating to the data and instrument.\nYou can create a Map in a number of ways, including loading a FITS file or URL:\n``mymap = sunpy.map.Map('file1.fits')``\n``mymap = sunpy.map.Map(url_str)``\nOr using creating manually by using tuple with the data/header within:\n\n"
      ], 
      "cell_type": "markdown", 
      "metadata": {}
    }, 
    {
      "execution_count": null, 
      "cell_type": "code", 
      "source": [
        "data = np.random.rand(20,15)\nheader = {}\nmanual_map = sunpy.map.Map((data, header))"
      ], 
      "outputs": [], 
      "metadata": {
        "collapsed": false
      }
    }, 
    {
      "source": [
        "The data numpy array and metadata dictionary can easily be accessed:\n\n"
      ], 
      "cell_type": "markdown", 
      "metadata": {}
    }, 
    {
      "execution_count": null, 
      "cell_type": "code", 
      "source": [
        "print(manual_map.data)\nprint(manual_map.meta)\n# In this case notice that the metadata has been populated by default with the\n# naxis details that correspond to the array used for the data."
      ], 
      "outputs": [], 
      "metadata": {
        "collapsed": false
      }
    }, 
    {
      "source": [
        "You can quickly plot a map using the peek method:\n\n"
      ], 
      "cell_type": "markdown", 
      "metadata": {}
    }, 
    {
      "execution_count": null, 
      "cell_type": "code", 
      "source": [
        "manual_map.peek()"
      ], 
      "outputs": [], 
      "metadata": {
        "collapsed": false
      }
    }, 
    {
      "source": [
        "SunPy Maps have a number of attributes that can be accessed easily, such as\nthe x and y ranges:\n\n"
      ], 
      "cell_type": "markdown", 
      "metadata": {}
    }, 
    {
      "execution_count": null, 
      "cell_type": "code", 
      "source": [
        "print(manual_map.xrange)\nprint(manual_map.yrange)\n# These return astropy Quantity objects.\n# In general the attributes are populated using details in the metadata and in\n# this case there is no centre pixel or pixel size information given so SunPy\n# is defaulting to assuming each pixel is 1 arcsec.\n# This is in Helioprojective tangent projection in both longitude and latitude:\nprint(manual_map.coordinate_system)"
      ], 
      "outputs": [], 
      "metadata": {
        "collapsed": false
      }
    }, 
    {
      "source": [
        "A real map example is given in the sample data, where the sunpy.data.sample.NAME\nreturns the location of the given FITS file.\n\n"
      ], 
      "cell_type": "markdown", 
      "metadata": {}
    }, 
    {
      "execution_count": null, 
      "cell_type": "code", 
      "source": [
        "aia_map = sunpy.map.Map(sunpy.data.sample.AIA_171_IMAGE)\naia_map.peek(draw_limb=True)"
      ], 
      "outputs": [], 
      "metadata": {
        "collapsed": false
      }
    }, 
    {
      "source": [
        "This has comprehensive metadata:\n\n"
      ], 
      "cell_type": "markdown", 
      "metadata": {}
    }, 
    {
      "execution_count": null, 
      "cell_type": "code", 
      "source": [
        "print(aia_map.meta)"
      ], 
      "outputs": [], 
      "metadata": {
        "collapsed": false
      }
    }, 
    {
      "source": [
        "Which allows it to accurately specify ranges:\n\n"
      ], 
      "cell_type": "markdown", 
      "metadata": {}
    }, 
    {
      "execution_count": null, 
      "cell_type": "code", 
      "source": [
        "print(aia_map.xrange)\nprint(aia_map.yrange)\n\n# And find out information about the observation device and date:\nprint(aia_map.date)\nprint(aia_map.observatory)\nprint(aia_map.detector)\nprint(aia_map.exposure_time)\nprint(aia_map.coordinate_system)\nprint(aia_map.measurement)"
      ], 
      "outputs": [], 
      "metadata": {
        "collapsed": false
      }
    }, 
    {
      "source": [
        "To see only a part of the image you create a submap, specifying ranges in\nAstroPy Quantities:\n\n"
      ], 
      "cell_type": "markdown", 
      "metadata": {}
    }, 
    {
      "execution_count": null, 
      "cell_type": "code", 
      "source": [
        "rangex = u.Quantity([aia_map.xrange[0], 0 * u.arcsec])\nrangey = u.Quantity([aia_map.yrange[0], 0 * u.arcsec])\naia_submap = aia_map.submap(rangex, rangey)\naia_submap.peek(draw_limb=True)"
      ], 
      "outputs": [], 
      "metadata": {
        "collapsed": false
      }
    }, 
    {
      "source": [
        "Similarly, if you want to reduce the angular resolution of the map you can use\nthe `~sunpy.map.GenericMap.resample` method, specifying the dimensions as an Astropy Quantity in pixels:\n\n"
      ], 
      "cell_type": "markdown", 
      "metadata": {}
    }, 
    {
      "execution_count": null, 
      "cell_type": "code", 
      "source": [
        "dimensions = u.Quantity([50, 50], u.pixel)\naia_resampled_map = aia_map.resample(dimensions)\naia_resampled_map.peek(draw_limb=True, draw_grid=True)"
      ], 
      "outputs": [], 
      "metadata": {
        "collapsed": false
      }
    }, 
    {
      "source": [
        "Similar to resampling you can use the `~sunpy.map.GenericMap.superpixel` method, this will reduce the\nresolution of the image by combining the number of pixels (in each dimension)\nin the dimensions argument into one single pixel.\nThis can be used to increase the signal to noise ratio.\nFor this the new dimensions must divide original image size exactly.\n\n"
      ], 
      "cell_type": "markdown", 
      "metadata": {}
    }, 
    {
      "execution_count": null, 
      "cell_type": "code", 
      "source": [
        "dimensions = u.Quantity(aia_map.dimensions) / 16\naia_superpixel_map = aia_map.superpixel(dimensions)\naia_superpixel_map.peek(draw_limb=True)"
      ], 
      "outputs": [], 
      "metadata": {
        "collapsed": false
      }
    }, 
    {
      "source": [
        "Maps can also be rotated using the `~sunpy.map.GenericMap.rotate` method:\n\n"
      ], 
      "cell_type": "markdown", 
      "metadata": {}
    }, 
    {
      "execution_count": null, 
      "cell_type": "code", 
      "source": [
        "aia_rotated_submap = aia_submap.rotate(angle = 10 * u.deg)\naia_rotated_submap.peek(draw_limb=True, draw_grid=True)\n# Note: the data array is expanded so that none of the original data is lost\n# through clipping."
      ], 
      "outputs": [], 
      "metadata": {
        "collapsed": false
      }
    }
  ], 
  "metadata": {
    "kernelspec": {
      "display_name": "Python 2", 
      "name": "python2", 
      "language": "python"
    }, 
    "language_info": {
      "mimetype": "text/x-python", 
      "nbconvert_exporter": "python", 
      "name": "python", 
      "file_extension": ".py", 
      "version": "2.7.12", 
      "pygments_lexer": "ipython2", 
      "codemirror_mode": {
        "version": 2, 
        "name": "ipython"
      }
    }
  }
}